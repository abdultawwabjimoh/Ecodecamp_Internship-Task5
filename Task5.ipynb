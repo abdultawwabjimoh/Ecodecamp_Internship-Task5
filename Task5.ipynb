{
 "cells": [
  {
   "cell_type": "code",
   "execution_count": 1,
   "id": "67354425-6004-44e9-9b42-d1b91bad9bbc",
   "metadata": {},
   "outputs": [],
   "source": [
    "import pandas as pd\n",
    "import seaborn as sns\n",
    "import matplotlib.pyplot as plt"
   ]
  },
  {
   "cell_type": "code",
   "execution_count": 2,
   "id": "217273d8-f8be-4d77-aa0f-42140edf5dfe",
   "metadata": {},
   "outputs": [
    {
     "data": {
      "text/html": [
       "<div>\n",
       "<style scoped>\n",
       "    .dataframe tbody tr th:only-of-type {\n",
       "        vertical-align: middle;\n",
       "    }\n",
       "\n",
       "    .dataframe tbody tr th {\n",
       "        vertical-align: top;\n",
       "    }\n",
       "\n",
       "    .dataframe thead th {\n",
       "        text-align: right;\n",
       "    }\n",
       "</style>\n",
       "<table border=\"1\" class=\"dataframe\">\n",
       "  <thead>\n",
       "    <tr style=\"text-align: right;\">\n",
       "      <th></th>\n",
       "      <th>CustomerID</th>\n",
       "      <th>Age</th>\n",
       "      <th>Gender</th>\n",
       "      <th>Income</th>\n",
       "      <th>VisitFrequency</th>\n",
       "      <th>AverageSpend</th>\n",
       "      <th>PreferredCuisine</th>\n",
       "      <th>TimeOfVisit</th>\n",
       "      <th>GroupSize</th>\n",
       "      <th>DiningOccasion</th>\n",
       "      <th>MealType</th>\n",
       "      <th>OnlineReservation</th>\n",
       "      <th>DeliveryOrder</th>\n",
       "      <th>LoyaltyProgramMember</th>\n",
       "      <th>WaitTime</th>\n",
       "      <th>ServiceRating</th>\n",
       "      <th>FoodRating</th>\n",
       "      <th>AmbianceRating</th>\n",
       "      <th>HighSatisfaction</th>\n",
       "    </tr>\n",
       "  </thead>\n",
       "  <tbody>\n",
       "    <tr>\n",
       "      <th>0</th>\n",
       "      <td>654</td>\n",
       "      <td>35</td>\n",
       "      <td>Male</td>\n",
       "      <td>83380</td>\n",
       "      <td>Weekly</td>\n",
       "      <td>27.829142</td>\n",
       "      <td>Chinese</td>\n",
       "      <td>Breakfast</td>\n",
       "      <td>3</td>\n",
       "      <td>Business</td>\n",
       "      <td>Takeaway</td>\n",
       "      <td>0</td>\n",
       "      <td>1</td>\n",
       "      <td>1</td>\n",
       "      <td>43.523929</td>\n",
       "      <td>2</td>\n",
       "      <td>5</td>\n",
       "      <td>4</td>\n",
       "      <td>0</td>\n",
       "    </tr>\n",
       "    <tr>\n",
       "      <th>1</th>\n",
       "      <td>655</td>\n",
       "      <td>19</td>\n",
       "      <td>Male</td>\n",
       "      <td>43623</td>\n",
       "      <td>Rarely</td>\n",
       "      <td>115.408622</td>\n",
       "      <td>American</td>\n",
       "      <td>Dinner</td>\n",
       "      <td>1</td>\n",
       "      <td>Casual</td>\n",
       "      <td>Dine-in</td>\n",
       "      <td>0</td>\n",
       "      <td>0</td>\n",
       "      <td>0</td>\n",
       "      <td>57.524294</td>\n",
       "      <td>5</td>\n",
       "      <td>5</td>\n",
       "      <td>3</td>\n",
       "      <td>0</td>\n",
       "    </tr>\n",
       "    <tr>\n",
       "      <th>2</th>\n",
       "      <td>656</td>\n",
       "      <td>41</td>\n",
       "      <td>Female</td>\n",
       "      <td>83737</td>\n",
       "      <td>Weekly</td>\n",
       "      <td>106.693771</td>\n",
       "      <td>American</td>\n",
       "      <td>Dinner</td>\n",
       "      <td>6</td>\n",
       "      <td>Celebration</td>\n",
       "      <td>Dine-in</td>\n",
       "      <td>0</td>\n",
       "      <td>1</td>\n",
       "      <td>0</td>\n",
       "      <td>48.682623</td>\n",
       "      <td>3</td>\n",
       "      <td>4</td>\n",
       "      <td>5</td>\n",
       "      <td>0</td>\n",
       "    </tr>\n",
       "    <tr>\n",
       "      <th>3</th>\n",
       "      <td>657</td>\n",
       "      <td>43</td>\n",
       "      <td>Male</td>\n",
       "      <td>96768</td>\n",
       "      <td>Rarely</td>\n",
       "      <td>43.508508</td>\n",
       "      <td>Indian</td>\n",
       "      <td>Lunch</td>\n",
       "      <td>1</td>\n",
       "      <td>Celebration</td>\n",
       "      <td>Dine-in</td>\n",
       "      <td>0</td>\n",
       "      <td>0</td>\n",
       "      <td>0</td>\n",
       "      <td>7.552993</td>\n",
       "      <td>4</td>\n",
       "      <td>5</td>\n",
       "      <td>1</td>\n",
       "      <td>0</td>\n",
       "    </tr>\n",
       "    <tr>\n",
       "      <th>4</th>\n",
       "      <td>658</td>\n",
       "      <td>55</td>\n",
       "      <td>Female</td>\n",
       "      <td>67937</td>\n",
       "      <td>Monthly</td>\n",
       "      <td>148.084627</td>\n",
       "      <td>Chinese</td>\n",
       "      <td>Breakfast</td>\n",
       "      <td>1</td>\n",
       "      <td>Business</td>\n",
       "      <td>Takeaway</td>\n",
       "      <td>0</td>\n",
       "      <td>0</td>\n",
       "      <td>1</td>\n",
       "      <td>37.789041</td>\n",
       "      <td>2</td>\n",
       "      <td>3</td>\n",
       "      <td>5</td>\n",
       "      <td>0</td>\n",
       "    </tr>\n",
       "  </tbody>\n",
       "</table>\n",
       "</div>"
      ],
      "text/plain": [
       "   CustomerID  Age  Gender  Income VisitFrequency  AverageSpend  \\\n",
       "0         654   35    Male   83380         Weekly     27.829142   \n",
       "1         655   19    Male   43623         Rarely    115.408622   \n",
       "2         656   41  Female   83737         Weekly    106.693771   \n",
       "3         657   43    Male   96768         Rarely     43.508508   \n",
       "4         658   55  Female   67937        Monthly    148.084627   \n",
       "\n",
       "  PreferredCuisine TimeOfVisit  GroupSize DiningOccasion  MealType  \\\n",
       "0          Chinese   Breakfast          3       Business  Takeaway   \n",
       "1         American      Dinner          1         Casual   Dine-in   \n",
       "2         American      Dinner          6    Celebration   Dine-in   \n",
       "3           Indian       Lunch          1    Celebration   Dine-in   \n",
       "4          Chinese   Breakfast          1       Business  Takeaway   \n",
       "\n",
       "   OnlineReservation  DeliveryOrder  LoyaltyProgramMember   WaitTime  \\\n",
       "0                  0              1                     1  43.523929   \n",
       "1                  0              0                     0  57.524294   \n",
       "2                  0              1                     0  48.682623   \n",
       "3                  0              0                     0   7.552993   \n",
       "4                  0              0                     1  37.789041   \n",
       "\n",
       "   ServiceRating  FoodRating  AmbianceRating  HighSatisfaction  \n",
       "0              2           5               4                 0  \n",
       "1              5           5               3                 0  \n",
       "2              3           4               5                 0  \n",
       "3              4           5               1                 0  \n",
       "4              2           3               5                 0  "
      ]
     },
     "execution_count": 2,
     "metadata": {},
     "output_type": "execute_result"
    }
   ],
   "source": [
    "cu=pd.read_csv('customer.csv')\n",
    "cu.head()"
   ]
  },
  {
   "cell_type": "code",
   "execution_count": 3,
   "id": "c87d647a-094b-40e1-ae85-f7cb7ea49a6e",
   "metadata": {},
   "outputs": [
    {
     "data": {
      "text/plain": [
       "(1500, 19)"
      ]
     },
     "execution_count": 3,
     "metadata": {},
     "output_type": "execute_result"
    }
   ],
   "source": [
    "cu.shape"
   ]
  },
  {
   "cell_type": "code",
   "execution_count": 4,
   "id": "1a8ee1f8-65d1-4527-9a7a-44fa91a6dbd8",
   "metadata": {},
   "outputs": [],
   "source": [
    "cu.drop(columns=['HighSatisfaction'],inplace=True)"
   ]
  },
  {
   "cell_type": "code",
   "execution_count": 5,
   "id": "1e6021ec-26fb-4886-90b3-2b0870968fdc",
   "metadata": {},
   "outputs": [
    {
     "data": {
      "text/plain": [
       "(1500, 18)"
      ]
     },
     "execution_count": 5,
     "metadata": {},
     "output_type": "execute_result"
    }
   ],
   "source": [
    "cu.shape"
   ]
  },
  {
   "cell_type": "code",
   "execution_count": 6,
   "id": "9c1f0101-8f9f-4add-aab1-87342f8756b9",
   "metadata": {},
   "outputs": [
    {
     "data": {
      "text/plain": [
       "CustomerID              0\n",
       "Age                     0\n",
       "Gender                  0\n",
       "Income                  0\n",
       "VisitFrequency          0\n",
       "AverageSpend            0\n",
       "PreferredCuisine        0\n",
       "TimeOfVisit             0\n",
       "GroupSize               0\n",
       "DiningOccasion          0\n",
       "MealType                0\n",
       "OnlineReservation       0\n",
       "DeliveryOrder           0\n",
       "LoyaltyProgramMember    0\n",
       "WaitTime                0\n",
       "ServiceRating           0\n",
       "FoodRating              0\n",
       "AmbianceRating          0\n",
       "dtype: int64"
      ]
     },
     "execution_count": 6,
     "metadata": {},
     "output_type": "execute_result"
    }
   ],
   "source": [
    "cu.isnull().sum()"
   ]
  },
  {
   "cell_type": "markdown",
   "id": "5fde6ed2-8924-4d55-9d9a-bdd39b5a2ad2",
   "metadata": {},
   "source": [
    "## No missing value"
   ]
  },
  {
   "cell_type": "code",
   "execution_count": 7,
   "id": "98c3c199-08e0-40c7-a504-1596c8789a8b",
   "metadata": {},
   "outputs": [
    {
     "data": {
      "text/html": [
       "<div>\n",
       "<style scoped>\n",
       "    .dataframe tbody tr th:only-of-type {\n",
       "        vertical-align: middle;\n",
       "    }\n",
       "\n",
       "    .dataframe tbody tr th {\n",
       "        vertical-align: top;\n",
       "    }\n",
       "\n",
       "    .dataframe thead th {\n",
       "        text-align: right;\n",
       "    }\n",
       "</style>\n",
       "<table border=\"1\" class=\"dataframe\">\n",
       "  <thead>\n",
       "    <tr style=\"text-align: right;\">\n",
       "      <th></th>\n",
       "      <th>CustomerID</th>\n",
       "      <th>Age</th>\n",
       "      <th>Gender</th>\n",
       "      <th>Income</th>\n",
       "      <th>VisitFrequency</th>\n",
       "      <th>AverageSpend</th>\n",
       "      <th>PreferredCuisine</th>\n",
       "      <th>TimeOfVisit</th>\n",
       "      <th>GroupSize</th>\n",
       "      <th>DiningOccasion</th>\n",
       "      <th>MealType</th>\n",
       "      <th>OnlineReservation</th>\n",
       "      <th>DeliveryOrder</th>\n",
       "      <th>LoyaltyProgramMember</th>\n",
       "      <th>WaitTime</th>\n",
       "      <th>ServiceRating</th>\n",
       "      <th>FoodRating</th>\n",
       "      <th>AmbianceRating</th>\n",
       "    </tr>\n",
       "  </thead>\n",
       "  <tbody>\n",
       "    <tr>\n",
       "      <th>0</th>\n",
       "      <td>654</td>\n",
       "      <td>35</td>\n",
       "      <td>Male</td>\n",
       "      <td>83380</td>\n",
       "      <td>Weekly</td>\n",
       "      <td>27.829142</td>\n",
       "      <td>Chinese</td>\n",
       "      <td>Breakfast</td>\n",
       "      <td>3</td>\n",
       "      <td>Business</td>\n",
       "      <td>Takeaway</td>\n",
       "      <td>0</td>\n",
       "      <td>1</td>\n",
       "      <td>1</td>\n",
       "      <td>43.523929</td>\n",
       "      <td>2</td>\n",
       "      <td>5</td>\n",
       "      <td>4</td>\n",
       "    </tr>\n",
       "    <tr>\n",
       "      <th>1</th>\n",
       "      <td>655</td>\n",
       "      <td>19</td>\n",
       "      <td>Male</td>\n",
       "      <td>43623</td>\n",
       "      <td>Rarely</td>\n",
       "      <td>115.408622</td>\n",
       "      <td>American</td>\n",
       "      <td>Dinner</td>\n",
       "      <td>1</td>\n",
       "      <td>Casual</td>\n",
       "      <td>Dine-in</td>\n",
       "      <td>0</td>\n",
       "      <td>0</td>\n",
       "      <td>0</td>\n",
       "      <td>57.524294</td>\n",
       "      <td>5</td>\n",
       "      <td>5</td>\n",
       "      <td>3</td>\n",
       "    </tr>\n",
       "    <tr>\n",
       "      <th>2</th>\n",
       "      <td>656</td>\n",
       "      <td>41</td>\n",
       "      <td>Female</td>\n",
       "      <td>83737</td>\n",
       "      <td>Weekly</td>\n",
       "      <td>106.693771</td>\n",
       "      <td>American</td>\n",
       "      <td>Dinner</td>\n",
       "      <td>6</td>\n",
       "      <td>Celebration</td>\n",
       "      <td>Dine-in</td>\n",
       "      <td>0</td>\n",
       "      <td>1</td>\n",
       "      <td>0</td>\n",
       "      <td>48.682623</td>\n",
       "      <td>3</td>\n",
       "      <td>4</td>\n",
       "      <td>5</td>\n",
       "    </tr>\n",
       "    <tr>\n",
       "      <th>3</th>\n",
       "      <td>657</td>\n",
       "      <td>43</td>\n",
       "      <td>Male</td>\n",
       "      <td>96768</td>\n",
       "      <td>Rarely</td>\n",
       "      <td>43.508508</td>\n",
       "      <td>Indian</td>\n",
       "      <td>Lunch</td>\n",
       "      <td>1</td>\n",
       "      <td>Celebration</td>\n",
       "      <td>Dine-in</td>\n",
       "      <td>0</td>\n",
       "      <td>0</td>\n",
       "      <td>0</td>\n",
       "      <td>7.552993</td>\n",
       "      <td>4</td>\n",
       "      <td>5</td>\n",
       "      <td>1</td>\n",
       "    </tr>\n",
       "    <tr>\n",
       "      <th>4</th>\n",
       "      <td>658</td>\n",
       "      <td>55</td>\n",
       "      <td>Female</td>\n",
       "      <td>67937</td>\n",
       "      <td>Monthly</td>\n",
       "      <td>148.084627</td>\n",
       "      <td>Chinese</td>\n",
       "      <td>Breakfast</td>\n",
       "      <td>1</td>\n",
       "      <td>Business</td>\n",
       "      <td>Takeaway</td>\n",
       "      <td>0</td>\n",
       "      <td>0</td>\n",
       "      <td>1</td>\n",
       "      <td>37.789041</td>\n",
       "      <td>2</td>\n",
       "      <td>3</td>\n",
       "      <td>5</td>\n",
       "    </tr>\n",
       "  </tbody>\n",
       "</table>\n",
       "</div>"
      ],
      "text/plain": [
       "   CustomerID  Age  Gender  Income VisitFrequency  AverageSpend  \\\n",
       "0         654   35    Male   83380         Weekly     27.829142   \n",
       "1         655   19    Male   43623         Rarely    115.408622   \n",
       "2         656   41  Female   83737         Weekly    106.693771   \n",
       "3         657   43    Male   96768         Rarely     43.508508   \n",
       "4         658   55  Female   67937        Monthly    148.084627   \n",
       "\n",
       "  PreferredCuisine TimeOfVisit  GroupSize DiningOccasion  MealType  \\\n",
       "0          Chinese   Breakfast          3       Business  Takeaway   \n",
       "1         American      Dinner          1         Casual   Dine-in   \n",
       "2         American      Dinner          6    Celebration   Dine-in   \n",
       "3           Indian       Lunch          1    Celebration   Dine-in   \n",
       "4          Chinese   Breakfast          1       Business  Takeaway   \n",
       "\n",
       "   OnlineReservation  DeliveryOrder  LoyaltyProgramMember   WaitTime  \\\n",
       "0                  0              1                     1  43.523929   \n",
       "1                  0              0                     0  57.524294   \n",
       "2                  0              1                     0  48.682623   \n",
       "3                  0              0                     0   7.552993   \n",
       "4                  0              0                     1  37.789041   \n",
       "\n",
       "   ServiceRating  FoodRating  AmbianceRating  \n",
       "0              2           5               4  \n",
       "1              5           5               3  \n",
       "2              3           4               5  \n",
       "3              4           5               1  \n",
       "4              2           3               5  "
      ]
     },
     "execution_count": 7,
     "metadata": {},
     "output_type": "execute_result"
    }
   ],
   "source": [
    "cu.head()"
   ]
  },
  {
   "cell_type": "markdown",
   "id": "d61898ac-1eae-4923-93fa-cef129c2c5a1",
   "metadata": {},
   "source": [
    "### Customers Satisfaction based on ServiceRating"
   ]
  },
  {
   "cell_type": "code",
   "execution_count": 8,
   "id": "280db372-dd16-41ad-9143-3f38ac77c8ec",
   "metadata": {},
   "outputs": [
    {
     "data": {
      "text/plain": [
       "ServiceRating\n",
       "5    322\n",
       "3    302\n",
       "4    295\n",
       "1    292\n",
       "2    289\n",
       "Name: count, dtype: int64"
      ]
     },
     "execution_count": 8,
     "metadata": {},
     "output_type": "execute_result"
    }
   ],
   "source": [
    "cu['ServiceRating'].value_counts(ascending=False)"
   ]
  },
  {
   "cell_type": "markdown",
   "id": "f2766c89-14b9-4a3e-8655-049c28ac6e2a",
   "metadata": {},
   "source": [
    "#### This shows that the Customers have a positive feedback based on servicerating "
   ]
  },
  {
   "cell_type": "code",
   "execution_count": 9,
   "id": "49e20a48-af08-4df9-a22a-923df722e22f",
   "metadata": {},
   "outputs": [
    {
     "data": {
      "text/plain": [
       "<Axes: xlabel='ServiceRating', ylabel='count'>"
      ]
     },
     "execution_count": 9,
     "metadata": {},
     "output_type": "execute_result"
    },
    {
     "data": {
      "image/png": "[encoded data removed]",
      "text/plain": [
       "<Figure size 640x480 with 1 Axes>"
      ]
     },
     "metadata": {},
     "output_type": "display_data"
    }
   ],
   "source": [
    "sns.countplot(x='ServiceRating',data=cu)"
   ]
  },
  {
   "cell_type": "code",
   "execution_count": 10,
   "id": "5f5871f0-7ed6-478c-8a4f-eea35c6f235d",
   "metadata": {},
   "outputs": [
    {
     "data": {
      "text/plain": [
       "FoodRating\n",
       "3    315\n",
       "1    313\n",
       "4    300\n",
       "5    298\n",
       "2    274\n",
       "Name: count, dtype: int64"
      ]
     },
     "execution_count": 10,
     "metadata": {},
     "output_type": "execute_result"
    }
   ],
   "source": [
    "cu['FoodRating'].value_counts(ascending=False)"
   ]
  },
  {
   "cell_type": "markdown",
   "id": "040b2c9e-d557-4441-be30-3f0635546bf1",
   "metadata": {},
   "source": [
    "### This shows that the Customers have Neutral feedback based on FoodRating"
   ]
  },
  {
   "cell_type": "code",
   "execution_count": 11,
   "id": "1e987c2b-ae8b-48d7-8c9f-508821feb7db",
   "metadata": {},
   "outputs": [
    {
     "data": {
      "text/plain": [
       "<Axes: xlabel='FoodRating', ylabel='count'>"
      ]
     },
     "execution_count": 11,
     "metadata": {},
     "output_type": "execute_result"
    },
    {
     "data": {
      "image/png": "[encoded data removed]",
      "text/plain": [
       "<Figure size 640x480 with 1 Axes>"
      ]
     },
     "metadata": {},
     "output_type": "display_data"
    }
   ],
   "source": [
    "sns.countplot(x='FoodRating',data=cu)"
   ]
  },
  {
   "cell_type": "code",
   "execution_count": 12,
   "id": "0ea1821b-57c4-48d3-8aa4-d63c06ae5a91",
   "metadata": {},
   "outputs": [
    {
     "data": {
      "text/plain": [
       "AmbianceRating\n",
       "1    324\n",
       "5    317\n",
       "2    298\n",
       "4    293\n",
       "3    268\n",
       "Name: count, dtype: int64"
      ]
     },
     "execution_count": 12,
     "metadata": {},
     "output_type": "execute_result"
    }
   ],
   "source": [
    "cu['AmbianceRating'].value_counts(ascending=False)"
   ]
  },
  {
   "cell_type": "markdown",
   "id": "572d2d95-deda-43ab-82b1-ae0382e08049",
   "metadata": {},
   "source": [
    "###### This shows that the Customers have Negative feedback based on AmbianceRating"
   ]
  },
  {
   "cell_type": "code",
   "execution_count": 13,
   "id": "d5b3203c-a624-4b81-aba4-89213dc563e2",
   "metadata": {},
   "outputs": [
    {
     "data": {
      "text/plain": [
       "<Axes: xlabel='AmbianceRating', ylabel='count'>"
      ]
     },
     "execution_count": 13,
     "metadata": {},
     "output_type": "execute_result"
    },
    {
     "data": {
      "image/png": "[encoded data removed]",
      "text/plain": [
       "<Figure size 640x480 with 1 Axes>"
      ]
     },
     "metadata": {},
     "output_type": "display_data"
    }
   ],
   "source": [
    "sns.countplot(x='AmbianceRating',data=cu)"
   ]
  },
  {
   "cell_type": "code",
   "execution_count": 14,
   "id": "60562355-fdc1-470d-9273-3a0038e0fef5",
   "metadata": {},
   "outputs": [
    {
     "data": {
      "text/html": [
       "<div>\n",
       "<style scoped>\n",
       "    .dataframe tbody tr th:only-of-type {\n",
       "        vertical-align: middle;\n",
       "    }\n",
       "\n",
       "    .dataframe tbody tr th {\n",
       "        vertical-align: top;\n",
       "    }\n",
       "\n",
       "    .dataframe thead th {\n",
       "        text-align: right;\n",
       "    }\n",
       "</style>\n",
       "<table border=\"1\" class=\"dataframe\">\n",
       "  <thead>\n",
       "    <tr style=\"text-align: right;\">\n",
       "      <th>OnlineReservation</th>\n",
       "      <th>0</th>\n",
       "      <th>1</th>\n",
       "    </tr>\n",
       "    <tr>\n",
       "      <th>TimeOfVisit</th>\n",
       "      <th></th>\n",
       "      <th></th>\n",
       "    </tr>\n",
       "  </thead>\n",
       "  <tbody>\n",
       "    <tr>\n",
       "      <th>Breakfast</th>\n",
       "      <td>358</td>\n",
       "      <td>148</td>\n",
       "    </tr>\n",
       "    <tr>\n",
       "      <th>Dinner</th>\n",
       "      <td>346</td>\n",
       "      <td>146</td>\n",
       "    </tr>\n",
       "    <tr>\n",
       "      <th>Lunch</th>\n",
       "      <td>351</td>\n",
       "      <td>151</td>\n",
       "    </tr>\n",
       "  </tbody>\n",
       "</table>\n",
       "</div>"
      ],
      "text/plain": [
       "OnlineReservation    0    1\n",
       "TimeOfVisit                \n",
       "Breakfast          358  148\n",
       "Dinner             346  146\n",
       "Lunch              351  151"
      ]
     },
     "execution_count": 14,
     "metadata": {},
     "output_type": "execute_result"
    }
   ],
   "source": [
    "cu.groupby('TimeOfVisit').OnlineReservation.value_counts().unstack()"
   ]
  },
  {
   "cell_type": "markdown",
   "id": "7cf8e7c5-c07a-4a30-9ba5-ee60dcf9ee8f",
   "metadata": {},
   "source": [
    "#### This shows that Customers with Lunch request more on OnlineReservation"
   ]
  },
  {
   "cell_type": "code",
   "execution_count": 15,
   "id": "5d700e62-a127-4f8e-b3f4-e58d27d34f75",
   "metadata": {},
   "outputs": [
    {
     "data": {
      "text/html": [
       "<div>\n",
       "<style scoped>\n",
       "    .dataframe tbody tr th:only-of-type {\n",
       "        vertical-align: middle;\n",
       "    }\n",
       "\n",
       "    .dataframe tbody tr th {\n",
       "        vertical-align: top;\n",
       "    }\n",
       "\n",
       "    .dataframe thead th {\n",
       "        text-align: right;\n",
       "    }\n",
       "</style>\n",
       "<table border=\"1\" class=\"dataframe\">\n",
       "  <thead>\n",
       "    <tr style=\"text-align: right;\">\n",
       "      <th>DeliveryOrder</th>\n",
       "      <th>0</th>\n",
       "      <th>1</th>\n",
       "    </tr>\n",
       "    <tr>\n",
       "      <th>TimeOfVisit</th>\n",
       "      <th></th>\n",
       "      <th></th>\n",
       "    </tr>\n",
       "  </thead>\n",
       "  <tbody>\n",
       "    <tr>\n",
       "      <th>Breakfast</th>\n",
       "      <td>302</td>\n",
       "      <td>204</td>\n",
       "    </tr>\n",
       "    <tr>\n",
       "      <th>Dinner</th>\n",
       "      <td>294</td>\n",
       "      <td>198</td>\n",
       "    </tr>\n",
       "    <tr>\n",
       "      <th>Lunch</th>\n",
       "      <td>296</td>\n",
       "      <td>206</td>\n",
       "    </tr>\n",
       "  </tbody>\n",
       "</table>\n",
       "</div>"
      ],
      "text/plain": [
       "DeliveryOrder    0    1\n",
       "TimeOfVisit            \n",
       "Breakfast      302  204\n",
       "Dinner         294  198\n",
       "Lunch          296  206"
      ]
     },
     "execution_count": 15,
     "metadata": {},
     "output_type": "execute_result"
    }
   ],
   "source": [
    "cu.groupby('TimeOfVisit').\tDeliveryOrder.value_counts().unstack()"
   ]
  },
  {
   "cell_type": "markdown",
   "id": "76620f28-5f43-4f0c-842e-a376ed3e28ef",
   "metadata": {},
   "source": [
    "###### This shows that Customers with Lunch request more on DeliveryOrder"
   ]
  },
  {
   "cell_type": "code",
   "execution_count": 16,
   "id": "634e0de2-ecc0-49ee-87e5-04fae67f1b7a",
   "metadata": {},
   "outputs": [
    {
     "data": {
      "text/plain": [
       "TimeOfVisit\n",
       "Breakfast    506\n",
       "Lunch        502\n",
       "Dinner       492\n",
       "Name: count, dtype: int64"
      ]
     },
     "execution_count": 16,
     "metadata": {},
     "output_type": "execute_result"
    }
   ],
   "source": [
    "cu['TimeOfVisit'].value_counts()"
   ]
  },
  {
   "cell_type": "code",
   "execution_count": 17,
   "id": "3169d6a5-a818-4536-823f-4b73fb52c860",
   "metadata": {},
   "outputs": [
    {
     "data": {
      "text/plain": [
       "<Axes: xlabel='TimeOfVisit', ylabel='count'>"
      ]
     },
     "execution_count": 17,
     "metadata": {},
     "output_type": "execute_result"
    },
    {
     "data": {
      "image/png": "[encoded data removed]",
      "text/plain": [
       "<Figure size 640x480 with 1 Axes>"
      ]
     },
     "metadata": {},
     "output_type": "display_data"
    }
   ],
   "source": [
    "sns.countplot(x='TimeOfVisit',data=cu)"
   ]
  },
  {
   "cell_type": "markdown",
   "id": "852239f7-2723-4e8d-a60e-b9573f88977f",
   "metadata": {},
   "source": [
    "##### This shows that Customer visit more for breakfast"
   ]
  },
  {
   "cell_type": "code",
   "execution_count": 21,
   "id": "926e6aec-0ea3-4ea2-84ae-4be9c0b7a25d",
   "metadata": {},
   "outputs": [
    {
     "data": {
      "text/html": [
       "<div>\n",
       "<style scoped>\n",
       "    .dataframe tbody tr th:only-of-type {\n",
       "        vertical-align: middle;\n",
       "    }\n",
       "\n",
       "    .dataframe tbody tr th {\n",
       "        vertical-align: top;\n",
       "    }\n",
       "\n",
       "    .dataframe thead th {\n",
       "        text-align: right;\n",
       "    }\n",
       "</style>\n",
       "<table border=\"1\" class=\"dataframe\">\n",
       "  <thead>\n",
       "    <tr style=\"text-align: right;\">\n",
       "      <th>FoodRating</th>\n",
       "      <th>1</th>\n",
       "      <th>2</th>\n",
       "      <th>3</th>\n",
       "      <th>4</th>\n",
       "      <th>5</th>\n",
       "    </tr>\n",
       "    <tr>\n",
       "      <th>TimeOfVisit</th>\n",
       "      <th></th>\n",
       "      <th></th>\n",
       "      <th></th>\n",
       "      <th></th>\n",
       "      <th></th>\n",
       "    </tr>\n",
       "  </thead>\n",
       "  <tbody>\n",
       "    <tr>\n",
       "      <th>Breakfast</th>\n",
       "      <td>101</td>\n",
       "      <td>88</td>\n",
       "      <td>111</td>\n",
       "      <td>112</td>\n",
       "      <td>94</td>\n",
       "    </tr>\n",
       "    <tr>\n",
       "      <th>Dinner</th>\n",
       "      <td>100</td>\n",
       "      <td>89</td>\n",
       "      <td>88</td>\n",
       "      <td>107</td>\n",
       "      <td>108</td>\n",
       "    </tr>\n",
       "    <tr>\n",
       "      <th>Lunch</th>\n",
       "      <td>112</td>\n",
       "      <td>97</td>\n",
       "      <td>116</td>\n",
       "      <td>81</td>\n",
       "      <td>96</td>\n",
       "    </tr>\n",
       "  </tbody>\n",
       "</table>\n",
       "</div>"
      ],
      "text/plain": [
       "FoodRating     1   2    3    4    5\n",
       "TimeOfVisit                        \n",
       "Breakfast    101  88  111  112   94\n",
       "Dinner       100  89   88  107  108\n",
       "Lunch        112  97  116   81   96"
      ]
     },
     "execution_count": 21,
     "metadata": {},
     "output_type": "execute_result"
    }
   ],
   "source": [
    "cu.groupby('TimeOfVisit').\tFoodRating.value_counts().unstack()"
   ]
  },
  {
   "cell_type": "markdown",
   "id": "a0efedee-d78c-4b6a-97da-82a106053f25",
   "metadata": {},
   "source": [
    "### this shows that Customers who visit for dinner have the heighest positive feedback Rating and those for lunch as the heightest negative feedbackrating  "
   ]
  },
  {
   "cell_type": "code",
   "execution_count": 23,
   "id": "3cf3a3c7-b40f-40bd-9b12-59db56b521d9",
   "metadata": {},
   "outputs": [
    {
     "data": {
      "text/html": [
       "<div>\n",
       "<style scoped>\n",
       "    .dataframe tbody tr th:only-of-type {\n",
       "        vertical-align: middle;\n",
       "    }\n",
       "\n",
       "    .dataframe tbody tr th {\n",
       "        vertical-align: top;\n",
       "    }\n",
       "\n",
       "    .dataframe thead th {\n",
       "        text-align: right;\n",
       "    }\n",
       "</style>\n",
       "<table border=\"1\" class=\"dataframe\">\n",
       "  <thead>\n",
       "    <tr style=\"text-align: right;\">\n",
       "      <th>FoodRating</th>\n",
       "      <th>1</th>\n",
       "      <th>2</th>\n",
       "      <th>3</th>\n",
       "      <th>4</th>\n",
       "      <th>5</th>\n",
       "    </tr>\n",
       "    <tr>\n",
       "      <th>PreferredCuisine</th>\n",
       "      <th></th>\n",
       "      <th></th>\n",
       "      <th></th>\n",
       "      <th></th>\n",
       "      <th></th>\n",
       "    </tr>\n",
       "  </thead>\n",
       "  <tbody>\n",
       "    <tr>\n",
       "      <th>American</th>\n",
       "      <td>55</td>\n",
       "      <td>41</td>\n",
       "      <td>55</td>\n",
       "      <td>65</td>\n",
       "      <td>54</td>\n",
       "    </tr>\n",
       "    <tr>\n",
       "      <th>Chinese</th>\n",
       "      <td>57</td>\n",
       "      <td>64</td>\n",
       "      <td>62</td>\n",
       "      <td>54</td>\n",
       "      <td>73</td>\n",
       "    </tr>\n",
       "    <tr>\n",
       "      <th>Indian</th>\n",
       "      <td>69</td>\n",
       "      <td>57</td>\n",
       "      <td>58</td>\n",
       "      <td>59</td>\n",
       "      <td>53</td>\n",
       "    </tr>\n",
       "    <tr>\n",
       "      <th>Italian</th>\n",
       "      <td>73</td>\n",
       "      <td>60</td>\n",
       "      <td>67</td>\n",
       "      <td>70</td>\n",
       "      <td>55</td>\n",
       "    </tr>\n",
       "    <tr>\n",
       "      <th>Mexican</th>\n",
       "      <td>59</td>\n",
       "      <td>52</td>\n",
       "      <td>73</td>\n",
       "      <td>52</td>\n",
       "      <td>63</td>\n",
       "    </tr>\n",
       "  </tbody>\n",
       "</table>\n",
       "</div>"
      ],
      "text/plain": [
       "FoodRating         1   2   3   4   5\n",
       "PreferredCuisine                    \n",
       "American          55  41  55  65  54\n",
       "Chinese           57  64  62  54  73\n",
       "Indian            69  57  58  59  53\n",
       "Italian           73  60  67  70  55\n",
       "Mexican           59  52  73  52  63"
      ]
     },
     "execution_count": 23,
     "metadata": {},
     "output_type": "execute_result"
    }
   ],
   "source": [
    "cu.groupby('PreferredCuisine').\tFoodRating.value_counts().unstack()"
   ]
  },
  {
   "cell_type": "markdown",
   "id": "55254639-38f1-4248-9656-48dfdbe26be7",
   "metadata": {},
   "source": [
    "##### this shows that the chinese Food has positve feedback while the italian has the nagative and mexican has neutral"
   ]
  },
  {
   "cell_type": "code",
   "execution_count": 24,
   "id": "a909fea7-0562-4d3c-8b70-cd9a70e50765",
   "metadata": {},
   "outputs": [
    {
     "data": {
      "text/html": [
       "<div>\n",
       "<style scoped>\n",
       "    .dataframe tbody tr th:only-of-type {\n",
       "        vertical-align: middle;\n",
       "    }\n",
       "\n",
       "    .dataframe tbody tr th {\n",
       "        vertical-align: top;\n",
       "    }\n",
       "\n",
       "    .dataframe thead th {\n",
       "        text-align: right;\n",
       "    }\n",
       "</style>\n",
       "<table border=\"1\" class=\"dataframe\">\n",
       "  <thead>\n",
       "    <tr style=\"text-align: right;\">\n",
       "      <th>ServiceRating</th>\n",
       "      <th>1</th>\n",
       "      <th>2</th>\n",
       "      <th>3</th>\n",
       "      <th>4</th>\n",
       "      <th>5</th>\n",
       "    </tr>\n",
       "    <tr>\n",
       "      <th>TimeOfVisit</th>\n",
       "      <th></th>\n",
       "      <th></th>\n",
       "      <th></th>\n",
       "      <th></th>\n",
       "      <th></th>\n",
       "    </tr>\n",
       "  </thead>\n",
       "  <tbody>\n",
       "    <tr>\n",
       "      <th>Breakfast</th>\n",
       "      <td>103</td>\n",
       "      <td>100</td>\n",
       "      <td>91</td>\n",
       "      <td>111</td>\n",
       "      <td>101</td>\n",
       "    </tr>\n",
       "    <tr>\n",
       "      <th>Dinner</th>\n",
       "      <td>97</td>\n",
       "      <td>93</td>\n",
       "      <td>96</td>\n",
       "      <td>94</td>\n",
       "      <td>112</td>\n",
       "    </tr>\n",
       "    <tr>\n",
       "      <th>Lunch</th>\n",
       "      <td>92</td>\n",
       "      <td>96</td>\n",
       "      <td>115</td>\n",
       "      <td>90</td>\n",
       "      <td>109</td>\n",
       "    </tr>\n",
       "  </tbody>\n",
       "</table>\n",
       "</div>"
      ],
      "text/plain": [
       "ServiceRating    1    2    3    4    5\n",
       "TimeOfVisit                           \n",
       "Breakfast      103  100   91  111  101\n",
       "Dinner          97   93   96   94  112\n",
       "Lunch           92   96  115   90  109"
      ]
     },
     "execution_count": 24,
     "metadata": {},
     "output_type": "execute_result"
    }
   ],
   "source": [
    "cu.groupby('TimeOfVisit').\tServiceRating.value_counts().unstack()"
   ]
  },
  {
   "cell_type": "markdown",
   "id": "14c5f0e2-05d6-4741-8a2f-6e0ae160f761",
   "metadata": {},
   "source": [
    "##### customers have positive statisfaction on the services rendered at dinner and negative at Breakfast"
   ]
  },
  {
   "cell_type": "code",
   "execution_count": 40,
   "id": "cf22c655-87b1-4367-9024-b19745ae593a",
   "metadata": {},
   "outputs": [],
   "source": [
    "Visit=cu['TimeOfVisit'].value_counts()\n",
    "Visit\n",
    "labels=Visit.index\n",
    "sizes=Visit.values"
   ]
  },
  {
   "cell_type": "code",
   "execution_count": 41,
   "id": "4e3b3e4f-15d8-4c59-913b-cd680aecfc0b",
   "metadata": {},
   "outputs": [
    {
     "data": {
      "text/plain": [
       "<matplotlib.legend.Legend at 0x269045de1d0>"
      ]
     },
     "execution_count": 41,
     "metadata": {},
     "output_type": "execute_result"
    },
    {
     "data": {
      "image/png": "[encoded data removed]",
      "text/plain": [
       "<Figure size 640x480 with 1 Axes>"
      ]
     },
     "metadata": {},
     "output_type": "display_data"
    }
   ],
   "source": [
    "plt.pie(sizes,wedgeprops={'edgecolor':'black'},startangle=90,autopct='%1.1f%%')\n",
    "plt .legend(labels,loc=\"best\")"
   ]
  },
  {
   "cell_type": "code",
   "execution_count": null,
   "id": "0f25dc82-6c41-4b95-82e3-4db43416f721",
   "metadata": {},
   "outputs": [],
   "source": []
  }
 ],
 "metadata": {
  "kernelspec": {
   "display_name": "Python 3 (ipykernel)",
   "language": "python",
   "name": "python3"
  },
  "language_info": {
   "codemirror_mode": {
    "name": "ipython",
    "version": 3
   },
   "file_extension": ".py",
   "mimetype": "text/x-python",
   "name": "python",
   "nbconvert_exporter": "python",
   "pygments_lexer": "ipython3",
   "version": "3.11.7"
  }
 },
 "nbformat": 4,
 "nbformat_minor": 5
}
